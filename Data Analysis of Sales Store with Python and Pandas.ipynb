{
 "cells": [
  {
   "cell_type": "markdown",
   "id": "76420497",
   "metadata": {},
   "source": [
    "### Problem Statement"
   ]
  },
  {
   "cell_type": "code",
   "execution_count": 1,
   "id": "d2301406",
   "metadata": {},
   "outputs": [],
   "source": [
    "# Problem Statement :\n",
    "#       Data regarding Sales, Profit etc.. across different Categories and Regions were given\n",
    "#    And we have to Analyze the Data and provide the Stakeholders with Insights to Improve their Business Performance\n",
    "#  They want to know which Category of Products are most profitable, which Region has the most Sales and Profit, and what are the most profitable Products."
   ]
  },
  {
   "cell_type": "markdown",
   "id": "89754287",
   "metadata": {},
   "source": [
    "### Assumptions"
   ]
  },
  {
   "cell_type": "code",
   "execution_count": 2,
   "id": "688595f7",
   "metadata": {},
   "outputs": [],
   "source": [
    "# Assumptions : \n",
    "#     Assuming that the Data Provided is accutate and has all samples of Transactions \n",
    "#    Also, assuming that the Data is sufficient to find patterns in Sales and Profitability\n",
    "#   Also assuming that the Data is not impacted by any significant Outliers that could skew the Analysis."
   ]
  },
  {
   "cell_type": "markdown",
   "id": "6e2ddc49",
   "metadata": {},
   "source": [
    "### Research Questions"
   ]
  },
  {
   "cell_type": "code",
   "execution_count": 3,
   "id": "39373959",
   "metadata": {},
   "outputs": [],
   "source": [
    "# Research Questions : (framing the Questions based on Problem Statement)\n",
    "# 1. Which Product Categories have the Highest Profit Margin ?\n",
    "# 2. Are there any significant differences in sales between East region and other Regions ?\n",
    "# 3. How do the Sales vary by Product Category during different Months of the Year ?\n",
    "# 4. What is the rate of Returned Products for orders with same-day shipping, compared to other Shipping modes ?\n",
    "# 5. How to Sales and Profit vary by product categories on Weekdays compared to Weekends ?"
   ]
  },
  {
   "cell_type": "markdown",
   "id": "4f0d2e2b",
   "metadata": {},
   "source": [
    "### Hypothesis"
   ]
  },
  {
   "cell_type": "code",
   "execution_count": 4,
   "id": "edb5961d",
   "metadata": {},
   "outputs": [],
   "source": [
    "# Hypothesis : (assuming these to hold True, after analyzing...will Accept or Reject this hypothesis)\n",
    "# Hypothesis 1. 'Technology' category products have the highest profit margin compared to other categories\n",
    "# Hypothesis 2. 'East' Region has the highest sales compared to other Regions\n",
    "# Hypothesis 3. Sales are higher during certain Months of the Year\n",
    "# Hypothesis 4. Orders with 'Same Day' shipping have lowest rate of Returned Products\n",
    "# Hypothesis 5. The Company's profit is more on Weekdays than on Weekends"
   ]
  },
  {
   "cell_type": "code",
   "execution_count": 5,
   "id": "afe2a047",
   "metadata": {},
   "outputs": [],
   "source": [
    "import pandas as pd\n",
    "import seaborn as sns\n",
    "import matplotlib.pyplot as plt"
   ]
  },
  {
   "cell_type": "code",
   "execution_count": null,
   "id": "a11d6707",
   "metadata": {},
   "outputs": [],
   "source": []
  },
  {
   "cell_type": "code",
   "execution_count": 6,
   "id": "09816131",
   "metadata": {},
   "outputs": [],
   "source": [
    "df = pd.read_csv('superstore_dataset.csv', encoding='ISO-8859-1')"
   ]
  },
  {
   "cell_type": "markdown",
   "id": "c0406b2c",
   "metadata": {},
   "source": [
    "### Exploring the Data"
   ]
  },
  {
   "cell_type": "code",
   "execution_count": 7,
   "id": "6969e445",
   "metadata": {},
   "outputs": [
    {
     "data": {
      "text/html": [
       "<div>\n",
       "<style scoped>\n",
       "    .dataframe tbody tr th:only-of-type {\n",
       "        vertical-align: middle;\n",
       "    }\n",
       "\n",
       "    .dataframe tbody tr th {\n",
       "        vertical-align: top;\n",
       "    }\n",
       "\n",
       "    .dataframe thead th {\n",
       "        text-align: right;\n",
       "    }\n",
       "</style>\n",
       "<table border=\"1\" class=\"dataframe\">\n",
       "  <thead>\n",
       "    <tr style=\"text-align: right;\">\n",
       "      <th></th>\n",
       "      <th>Row ID</th>\n",
       "      <th>Order ID</th>\n",
       "      <th>Order Date</th>\n",
       "      <th>Ship Date</th>\n",
       "      <th>Ship Mode</th>\n",
       "      <th>Customer ID</th>\n",
       "      <th>Customer Name</th>\n",
       "      <th>Segment</th>\n",
       "      <th>City</th>\n",
       "      <th>State</th>\n",
       "      <th>...</th>\n",
       "      <th>Product ID</th>\n",
       "      <th>Category</th>\n",
       "      <th>Sub-Category</th>\n",
       "      <th>Product Name</th>\n",
       "      <th>Sales</th>\n",
       "      <th>Quantity</th>\n",
       "      <th>Discount</th>\n",
       "      <th>Profit</th>\n",
       "      <th>Shipping Cost</th>\n",
       "      <th>Order Priority</th>\n",
       "    </tr>\n",
       "  </thead>\n",
       "  <tbody>\n",
       "    <tr>\n",
       "      <th>0</th>\n",
       "      <td>42433</td>\n",
       "      <td>AG-2011-2040</td>\n",
       "      <td>1/1/2011</td>\n",
       "      <td>6/1/2011</td>\n",
       "      <td>Standard Class</td>\n",
       "      <td>TB-11280</td>\n",
       "      <td>Toby Braunhardt</td>\n",
       "      <td>Consumer</td>\n",
       "      <td>Constantine</td>\n",
       "      <td>Constantine</td>\n",
       "      <td>...</td>\n",
       "      <td>OFF-TEN-10000025</td>\n",
       "      <td>Office Supplies</td>\n",
       "      <td>Storage</td>\n",
       "      <td>Tenex Lockers, Blue</td>\n",
       "      <td>408.300</td>\n",
       "      <td>2</td>\n",
       "      <td>0.0</td>\n",
       "      <td>106.140</td>\n",
       "      <td>35.46</td>\n",
       "      <td>Medium</td>\n",
       "    </tr>\n",
       "    <tr>\n",
       "      <th>1</th>\n",
       "      <td>22253</td>\n",
       "      <td>IN-2011-47883</td>\n",
       "      <td>1/1/2011</td>\n",
       "      <td>8/1/2011</td>\n",
       "      <td>Standard Class</td>\n",
       "      <td>JH-15985</td>\n",
       "      <td>Joseph Holt</td>\n",
       "      <td>Consumer</td>\n",
       "      <td>Wagga Wagga</td>\n",
       "      <td>New South Wales</td>\n",
       "      <td>...</td>\n",
       "      <td>OFF-SU-10000618</td>\n",
       "      <td>Office Supplies</td>\n",
       "      <td>Supplies</td>\n",
       "      <td>Acme Trimmer, High Speed</td>\n",
       "      <td>120.366</td>\n",
       "      <td>3</td>\n",
       "      <td>0.1</td>\n",
       "      <td>36.036</td>\n",
       "      <td>9.72</td>\n",
       "      <td>Medium</td>\n",
       "    </tr>\n",
       "    <tr>\n",
       "      <th>2</th>\n",
       "      <td>48883</td>\n",
       "      <td>HU-2011-1220</td>\n",
       "      <td>1/1/2011</td>\n",
       "      <td>5/1/2011</td>\n",
       "      <td>Second Class</td>\n",
       "      <td>AT-735</td>\n",
       "      <td>Annie Thurman</td>\n",
       "      <td>Consumer</td>\n",
       "      <td>Budapest</td>\n",
       "      <td>Budapest</td>\n",
       "      <td>...</td>\n",
       "      <td>OFF-TEN-10001585</td>\n",
       "      <td>Office Supplies</td>\n",
       "      <td>Storage</td>\n",
       "      <td>Tenex Box, Single Width</td>\n",
       "      <td>66.120</td>\n",
       "      <td>4</td>\n",
       "      <td>0.0</td>\n",
       "      <td>29.640</td>\n",
       "      <td>8.17</td>\n",
       "      <td>High</td>\n",
       "    </tr>\n",
       "  </tbody>\n",
       "</table>\n",
       "<p>3 rows × 24 columns</p>\n",
       "</div>"
      ],
      "text/plain": [
       "   Row ID       Order ID Order Date Ship Date       Ship Mode Customer ID  \\\n",
       "0   42433   AG-2011-2040   1/1/2011  6/1/2011  Standard Class    TB-11280   \n",
       "1   22253  IN-2011-47883   1/1/2011  8/1/2011  Standard Class    JH-15985   \n",
       "2   48883   HU-2011-1220   1/1/2011  5/1/2011    Second Class      AT-735   \n",
       "\n",
       "     Customer Name   Segment         City            State  ...  \\\n",
       "0  Toby Braunhardt  Consumer  Constantine      Constantine  ...   \n",
       "1      Joseph Holt  Consumer  Wagga Wagga  New South Wales  ...   \n",
       "2    Annie Thurman  Consumer     Budapest         Budapest  ...   \n",
       "\n",
       "         Product ID         Category Sub-Category              Product Name  \\\n",
       "0  OFF-TEN-10000025  Office Supplies      Storage       Tenex Lockers, Blue   \n",
       "1   OFF-SU-10000618  Office Supplies     Supplies  Acme Trimmer, High Speed   \n",
       "2  OFF-TEN-10001585  Office Supplies      Storage   Tenex Box, Single Width   \n",
       "\n",
       "     Sales Quantity Discount   Profit  Shipping Cost  Order Priority  \n",
       "0  408.300        2      0.0  106.140          35.46          Medium  \n",
       "1  120.366        3      0.1   36.036           9.72          Medium  \n",
       "2   66.120        4      0.0   29.640           8.17            High  \n",
       "\n",
       "[3 rows x 24 columns]"
      ]
     },
     "execution_count": 7,
     "metadata": {},
     "output_type": "execute_result"
    }
   ],
   "source": [
    "df.head(3)"
   ]
  },
  {
   "cell_type": "code",
   "execution_count": 8,
   "id": "bd3b6846",
   "metadata": {},
   "outputs": [
    {
     "data": {
      "text/plain": [
       "Index(['Row ID', 'Order ID', 'Order Date', 'Ship Date', 'Ship Mode',\n",
       "       'Customer ID', 'Customer Name', 'Segment', 'City', 'State', 'Country',\n",
       "       'Postal Code', 'Market', 'Region', 'Product ID', 'Category',\n",
       "       'Sub-Category', 'Product Name', 'Sales', 'Quantity', 'Discount',\n",
       "       'Profit', 'Shipping Cost', 'Order Priority'],\n",
       "      dtype='object')"
      ]
     },
     "execution_count": 8,
     "metadata": {},
     "output_type": "execute_result"
    }
   ],
   "source": [
    "df.columns"
   ]
  },
  {
   "cell_type": "code",
   "execution_count": 9,
   "id": "5a470167",
   "metadata": {},
   "outputs": [
    {
     "data": {
      "text/plain": [
       "(51290, 24)"
      ]
     },
     "execution_count": 9,
     "metadata": {},
     "output_type": "execute_result"
    }
   ],
   "source": [
    "df.shape"
   ]
  },
  {
   "cell_type": "markdown",
   "id": "c39fb267",
   "metadata": {},
   "source": [
    "#### Getting more Info on Data to see DataTypes, non null values...etc"
   ]
  },
  {
   "cell_type": "code",
   "execution_count": 10,
   "id": "915208ae",
   "metadata": {},
   "outputs": [
    {
     "name": "stdout",
     "output_type": "stream",
     "text": [
      "<class 'pandas.core.frame.DataFrame'>\n",
      "RangeIndex: 51290 entries, 0 to 51289\n",
      "Data columns (total 24 columns):\n",
      " #   Column          Non-Null Count  Dtype  \n",
      "---  ------          --------------  -----  \n",
      " 0   Row ID          51290 non-null  int64  \n",
      " 1   Order ID        51290 non-null  object \n",
      " 2   Order Date      51290 non-null  object \n",
      " 3   Ship Date       51290 non-null  object \n",
      " 4   Ship Mode       51290 non-null  object \n",
      " 5   Customer ID     51290 non-null  object \n",
      " 6   Customer Name   51290 non-null  object \n",
      " 7   Segment         51290 non-null  object \n",
      " 8   City            51290 non-null  object \n",
      " 9   State           51290 non-null  object \n",
      " 10  Country         51290 non-null  object \n",
      " 11  Postal Code     9994 non-null   float64\n",
      " 12  Market          51290 non-null  object \n",
      " 13  Region          51290 non-null  object \n",
      " 14  Product ID      51290 non-null  object \n",
      " 15  Category        51290 non-null  object \n",
      " 16  Sub-Category    51290 non-null  object \n",
      " 17  Product Name    51290 non-null  object \n",
      " 18  Sales           51290 non-null  float64\n",
      " 19  Quantity        51290 non-null  int64  \n",
      " 20  Discount        51290 non-null  float64\n",
      " 21  Profit          51290 non-null  float64\n",
      " 22  Shipping Cost   51290 non-null  float64\n",
      " 23  Order Priority  51290 non-null  object \n",
      "dtypes: float64(5), int64(2), object(17)\n",
      "memory usage: 9.4+ MB\n"
     ]
    }
   ],
   "source": [
    "df.info()"
   ]
  },
  {
   "cell_type": "code",
   "execution_count": 11,
   "id": "780430e0",
   "metadata": {},
   "outputs": [
    {
     "data": {
      "text/html": [
       "<div>\n",
       "<style scoped>\n",
       "    .dataframe tbody tr th:only-of-type {\n",
       "        vertical-align: middle;\n",
       "    }\n",
       "\n",
       "    .dataframe tbody tr th {\n",
       "        vertical-align: top;\n",
       "    }\n",
       "\n",
       "    .dataframe thead th {\n",
       "        text-align: right;\n",
       "    }\n",
       "</style>\n",
       "<table border=\"1\" class=\"dataframe\">\n",
       "  <thead>\n",
       "    <tr style=\"text-align: right;\">\n",
       "      <th></th>\n",
       "      <th>Row ID</th>\n",
       "      <th>Postal Code</th>\n",
       "      <th>Sales</th>\n",
       "      <th>Quantity</th>\n",
       "      <th>Discount</th>\n",
       "      <th>Profit</th>\n",
       "      <th>Shipping Cost</th>\n",
       "    </tr>\n",
       "  </thead>\n",
       "  <tbody>\n",
       "    <tr>\n",
       "      <th>Row ID</th>\n",
       "      <td>1.000000</td>\n",
       "      <td>0.009671</td>\n",
       "      <td>-0.043889</td>\n",
       "      <td>-0.173483</td>\n",
       "      <td>0.087594</td>\n",
       "      <td>-0.019037</td>\n",
       "      <td>-0.039078</td>\n",
       "    </tr>\n",
       "    <tr>\n",
       "      <th>Postal Code</th>\n",
       "      <td>0.009671</td>\n",
       "      <td>1.000000</td>\n",
       "      <td>-0.023854</td>\n",
       "      <td>0.012761</td>\n",
       "      <td>0.058443</td>\n",
       "      <td>-0.029961</td>\n",
       "      <td>-0.025449</td>\n",
       "    </tr>\n",
       "    <tr>\n",
       "      <th>Sales</th>\n",
       "      <td>-0.043889</td>\n",
       "      <td>-0.023854</td>\n",
       "      <td>1.000000</td>\n",
       "      <td>0.313577</td>\n",
       "      <td>-0.086722</td>\n",
       "      <td>0.484918</td>\n",
       "      <td>0.768073</td>\n",
       "    </tr>\n",
       "    <tr>\n",
       "      <th>Quantity</th>\n",
       "      <td>-0.173483</td>\n",
       "      <td>0.012761</td>\n",
       "      <td>0.313577</td>\n",
       "      <td>1.000000</td>\n",
       "      <td>-0.019875</td>\n",
       "      <td>0.104365</td>\n",
       "      <td>0.272649</td>\n",
       "    </tr>\n",
       "    <tr>\n",
       "      <th>Discount</th>\n",
       "      <td>0.087594</td>\n",
       "      <td>0.058443</td>\n",
       "      <td>-0.086722</td>\n",
       "      <td>-0.019875</td>\n",
       "      <td>1.000000</td>\n",
       "      <td>-0.316490</td>\n",
       "      <td>-0.079056</td>\n",
       "    </tr>\n",
       "    <tr>\n",
       "      <th>Profit</th>\n",
       "      <td>-0.019037</td>\n",
       "      <td>-0.029961</td>\n",
       "      <td>0.484918</td>\n",
       "      <td>0.104365</td>\n",
       "      <td>-0.316490</td>\n",
       "      <td>1.000000</td>\n",
       "      <td>0.354441</td>\n",
       "    </tr>\n",
       "    <tr>\n",
       "      <th>Shipping Cost</th>\n",
       "      <td>-0.039078</td>\n",
       "      <td>-0.025449</td>\n",
       "      <td>0.768073</td>\n",
       "      <td>0.272649</td>\n",
       "      <td>-0.079056</td>\n",
       "      <td>0.354441</td>\n",
       "      <td>1.000000</td>\n",
       "    </tr>\n",
       "  </tbody>\n",
       "</table>\n",
       "</div>"
      ],
      "text/plain": [
       "                 Row ID  Postal Code     Sales  Quantity  Discount    Profit  \\\n",
       "Row ID         1.000000     0.009671 -0.043889 -0.173483  0.087594 -0.019037   \n",
       "Postal Code    0.009671     1.000000 -0.023854  0.012761  0.058443 -0.029961   \n",
       "Sales         -0.043889    -0.023854  1.000000  0.313577 -0.086722  0.484918   \n",
       "Quantity      -0.173483     0.012761  0.313577  1.000000 -0.019875  0.104365   \n",
       "Discount       0.087594     0.058443 -0.086722 -0.019875  1.000000 -0.316490   \n",
       "Profit        -0.019037    -0.029961  0.484918  0.104365 -0.316490  1.000000   \n",
       "Shipping Cost -0.039078    -0.025449  0.768073  0.272649 -0.079056  0.354441   \n",
       "\n",
       "               Shipping Cost  \n",
       "Row ID             -0.039078  \n",
       "Postal Code        -0.025449  \n",
       "Sales               0.768073  \n",
       "Quantity            0.272649  \n",
       "Discount           -0.079056  \n",
       "Profit              0.354441  \n",
       "Shipping Cost       1.000000  "
      ]
     },
     "execution_count": 11,
     "metadata": {},
     "output_type": "execute_result"
    }
   ],
   "source": [
    "import warnings\n",
    "warnings.filterwarnings(\"ignore\")\n",
    "df.corr()"
   ]
  },
  {
   "cell_type": "markdown",
   "id": "82ebe2f5",
   "metadata": {},
   "source": [
    "#### Checking Null Values"
   ]
  },
  {
   "cell_type": "code",
   "execution_count": 12,
   "id": "992f14c8",
   "metadata": {},
   "outputs": [
    {
     "data": {
      "text/plain": [
       "Row ID                0\n",
       "Order ID              0\n",
       "Order Date            0\n",
       "Ship Date             0\n",
       "Ship Mode             0\n",
       "Customer ID           0\n",
       "Customer Name         0\n",
       "Segment               0\n",
       "City                  0\n",
       "State                 0\n",
       "Country               0\n",
       "Postal Code       41296\n",
       "Market                0\n",
       "Region                0\n",
       "Product ID            0\n",
       "Category              0\n",
       "Sub-Category          0\n",
       "Product Name          0\n",
       "Sales                 0\n",
       "Quantity              0\n",
       "Discount              0\n",
       "Profit                0\n",
       "Shipping Cost         0\n",
       "Order Priority        0\n",
       "dtype: int64"
      ]
     },
     "execution_count": 12,
     "metadata": {},
     "output_type": "execute_result"
    }
   ],
   "source": [
    "df.isnull().sum()"
   ]
  },
  {
   "cell_type": "markdown",
   "id": "543df9e6",
   "metadata": {},
   "source": [
    "#### Checking Duplicate Values"
   ]
  },
  {
   "cell_type": "code",
   "execution_count": 13,
   "id": "4309c474",
   "metadata": {},
   "outputs": [
    {
     "data": {
      "text/plain": [
       "0"
      ]
     },
     "execution_count": 13,
     "metadata": {},
     "output_type": "execute_result"
    }
   ],
   "source": [
    "df.duplicated().sum()"
   ]
  },
  {
   "cell_type": "code",
   "execution_count": 14,
   "id": "5c543250",
   "metadata": {},
   "outputs": [],
   "source": [
    "# No Duplicate Values so moving on"
   ]
  },
  {
   "cell_type": "code",
   "execution_count": 15,
   "id": "093b265e",
   "metadata": {},
   "outputs": [
    {
     "data": {
      "text/html": [
       "<div>\n",
       "<style scoped>\n",
       "    .dataframe tbody tr th:only-of-type {\n",
       "        vertical-align: middle;\n",
       "    }\n",
       "\n",
       "    .dataframe tbody tr th {\n",
       "        vertical-align: top;\n",
       "    }\n",
       "\n",
       "    .dataframe thead th {\n",
       "        text-align: right;\n",
       "    }\n",
       "</style>\n",
       "<table border=\"1\" class=\"dataframe\">\n",
       "  <thead>\n",
       "    <tr style=\"text-align: right;\">\n",
       "      <th></th>\n",
       "      <th>Row ID</th>\n",
       "      <th>Postal Code</th>\n",
       "      <th>Sales</th>\n",
       "      <th>Quantity</th>\n",
       "      <th>Discount</th>\n",
       "      <th>Profit</th>\n",
       "      <th>Shipping Cost</th>\n",
       "    </tr>\n",
       "  </thead>\n",
       "  <tbody>\n",
       "    <tr>\n",
       "      <th>count</th>\n",
       "      <td>51290.00000</td>\n",
       "      <td>9994.000000</td>\n",
       "      <td>51290.000000</td>\n",
       "      <td>51290.000000</td>\n",
       "      <td>51290.000000</td>\n",
       "      <td>51290.000000</td>\n",
       "      <td>51290.000000</td>\n",
       "    </tr>\n",
       "    <tr>\n",
       "      <th>mean</th>\n",
       "      <td>25645.50000</td>\n",
       "      <td>55190.379428</td>\n",
       "      <td>246.490581</td>\n",
       "      <td>3.476545</td>\n",
       "      <td>0.142908</td>\n",
       "      <td>28.610982</td>\n",
       "      <td>26.375915</td>\n",
       "    </tr>\n",
       "    <tr>\n",
       "      <th>std</th>\n",
       "      <td>14806.29199</td>\n",
       "      <td>32063.693350</td>\n",
       "      <td>487.565361</td>\n",
       "      <td>2.278766</td>\n",
       "      <td>0.212280</td>\n",
       "      <td>174.340972</td>\n",
       "      <td>57.296804</td>\n",
       "    </tr>\n",
       "    <tr>\n",
       "      <th>min</th>\n",
       "      <td>1.00000</td>\n",
       "      <td>1040.000000</td>\n",
       "      <td>0.444000</td>\n",
       "      <td>1.000000</td>\n",
       "      <td>0.000000</td>\n",
       "      <td>-6599.978000</td>\n",
       "      <td>0.000000</td>\n",
       "    </tr>\n",
       "    <tr>\n",
       "      <th>25%</th>\n",
       "      <td>12823.25000</td>\n",
       "      <td>23223.000000</td>\n",
       "      <td>30.758625</td>\n",
       "      <td>2.000000</td>\n",
       "      <td>0.000000</td>\n",
       "      <td>0.000000</td>\n",
       "      <td>2.610000</td>\n",
       "    </tr>\n",
       "    <tr>\n",
       "      <th>50%</th>\n",
       "      <td>25645.50000</td>\n",
       "      <td>56430.500000</td>\n",
       "      <td>85.053000</td>\n",
       "      <td>3.000000</td>\n",
       "      <td>0.000000</td>\n",
       "      <td>9.240000</td>\n",
       "      <td>7.790000</td>\n",
       "    </tr>\n",
       "    <tr>\n",
       "      <th>75%</th>\n",
       "      <td>38467.75000</td>\n",
       "      <td>90008.000000</td>\n",
       "      <td>251.053200</td>\n",
       "      <td>5.000000</td>\n",
       "      <td>0.200000</td>\n",
       "      <td>36.810000</td>\n",
       "      <td>24.450000</td>\n",
       "    </tr>\n",
       "    <tr>\n",
       "      <th>max</th>\n",
       "      <td>51290.00000</td>\n",
       "      <td>99301.000000</td>\n",
       "      <td>22638.480000</td>\n",
       "      <td>14.000000</td>\n",
       "      <td>0.850000</td>\n",
       "      <td>8399.976000</td>\n",
       "      <td>933.570000</td>\n",
       "    </tr>\n",
       "  </tbody>\n",
       "</table>\n",
       "</div>"
      ],
      "text/plain": [
       "            Row ID   Postal Code         Sales      Quantity      Discount  \\\n",
       "count  51290.00000   9994.000000  51290.000000  51290.000000  51290.000000   \n",
       "mean   25645.50000  55190.379428    246.490581      3.476545      0.142908   \n",
       "std    14806.29199  32063.693350    487.565361      2.278766      0.212280   \n",
       "min        1.00000   1040.000000      0.444000      1.000000      0.000000   \n",
       "25%    12823.25000  23223.000000     30.758625      2.000000      0.000000   \n",
       "50%    25645.50000  56430.500000     85.053000      3.000000      0.000000   \n",
       "75%    38467.75000  90008.000000    251.053200      5.000000      0.200000   \n",
       "max    51290.00000  99301.000000  22638.480000     14.000000      0.850000   \n",
       "\n",
       "             Profit  Shipping Cost  \n",
       "count  51290.000000   51290.000000  \n",
       "mean      28.610982      26.375915  \n",
       "std      174.340972      57.296804  \n",
       "min    -6599.978000       0.000000  \n",
       "25%        0.000000       2.610000  \n",
       "50%        9.240000       7.790000  \n",
       "75%       36.810000      24.450000  \n",
       "max     8399.976000     933.570000  "
      ]
     },
     "execution_count": 15,
     "metadata": {},
     "output_type": "execute_result"
    }
   ],
   "source": [
    "df.describe()"
   ]
  },
  {
   "cell_type": "markdown",
   "id": "2a188be4",
   "metadata": {},
   "source": [
    "### Removing Unnecessary Columns"
   ]
  },
  {
   "cell_type": "code",
   "execution_count": 16,
   "id": "04d1fd66",
   "metadata": {},
   "outputs": [
    {
     "data": {
      "text/plain": [
       "Index(['Row ID', 'Order ID', 'Order Date', 'Ship Date', 'Ship Mode',\n",
       "       'Customer ID', 'Customer Name', 'Segment', 'City', 'State', 'Country',\n",
       "       'Postal Code', 'Market', 'Region', 'Product ID', 'Category',\n",
       "       'Sub-Category', 'Product Name', 'Sales', 'Quantity', 'Discount',\n",
       "       'Profit', 'Shipping Cost', 'Order Priority'],\n",
       "      dtype='object')"
      ]
     },
     "execution_count": 16,
     "metadata": {},
     "output_type": "execute_result"
    }
   ],
   "source": [
    "df.columns"
   ]
  },
  {
   "cell_type": "code",
   "execution_count": 17,
   "id": "e983c0e6",
   "metadata": {},
   "outputs": [],
   "source": [
    "df.drop(['Row ID', 'Order ID', 'Customer ID', 'Postal Code'], axis =1, inplace=True)\n",
    "# dropping then cause they are not useful to solve the problem statement"
   ]
  },
  {
   "cell_type": "code",
   "execution_count": 18,
   "id": "1dd1aa17",
   "metadata": {},
   "outputs": [
    {
     "data": {
      "text/plain": [
       "Index(['Order Date', 'Ship Date', 'Ship Mode', 'Customer Name', 'Segment',\n",
       "       'City', 'State', 'Country', 'Market', 'Region', 'Product ID',\n",
       "       'Category', 'Sub-Category', 'Product Name', 'Sales', 'Quantity',\n",
       "       'Discount', 'Profit', 'Shipping Cost', 'Order Priority'],\n",
       "      dtype='object')"
      ]
     },
     "execution_count": 18,
     "metadata": {},
     "output_type": "execute_result"
    }
   ],
   "source": [
    "df.columns"
   ]
  },
  {
   "cell_type": "code",
   "execution_count": null,
   "id": "dee9cdde",
   "metadata": {},
   "outputs": [],
   "source": []
  },
  {
   "cell_type": "markdown",
   "id": "a0a70482",
   "metadata": {},
   "source": [
    "### Hypothesis 1. 'Technology' category products have the highest profit margin compared to other categories"
   ]
  },
  {
   "cell_type": "code",
   "execution_count": 19,
   "id": "83e8b012",
   "metadata": {},
   "outputs": [
    {
     "data": {
      "text/plain": [
       "Index(['Order Date', 'Ship Date', 'Ship Mode', 'Customer Name', 'Segment',\n",
       "       'City', 'State', 'Country', 'Market', 'Region', 'Product ID',\n",
       "       'Category', 'Sub-Category', 'Product Name', 'Sales', 'Quantity',\n",
       "       'Discount', 'Profit', 'Shipping Cost', 'Order Priority'],\n",
       "      dtype='object')"
      ]
     },
     "execution_count": 19,
     "metadata": {},
     "output_type": "execute_result"
    }
   ],
   "source": [
    "df.columns"
   ]
  },
  {
   "cell_type": "code",
   "execution_count": 20,
   "id": "a3f0de92",
   "metadata": {},
   "outputs": [
    {
     "data": {
      "text/plain": [
       "array(['Office Supplies', 'Furniture', 'Technology'], dtype=object)"
      ]
     },
     "execution_count": 20,
     "metadata": {},
     "output_type": "execute_result"
    }
   ],
   "source": [
    "df['Category'].unique()"
   ]
  },
  {
   "cell_type": "code",
   "execution_count": 21,
   "id": "6b1eaedb",
   "metadata": {},
   "outputs": [
    {
     "data": {
      "text/plain": [
       "Category\n",
       "Furniture          285204.72380\n",
       "Office Supplies    518473.83430\n",
       "Technology         663778.73318\n",
       "Name: Profit, dtype: float64"
      ]
     },
     "execution_count": 21,
     "metadata": {},
     "output_type": "execute_result"
    }
   ],
   "source": [
    "df1 = df.groupby('Category')['Profit'].sum()\n",
    "df1"
   ]
  },
  {
   "cell_type": "code",
   "execution_count": 22,
   "id": "9cc70c58",
   "metadata": {},
   "outputs": [],
   "source": [
    "#for i,j in df1:\n",
    "#    print(i)\n",
    "#    print(j)"
   ]
  },
  {
   "cell_type": "code",
   "execution_count": 23,
   "id": "4959c1cc",
   "metadata": {},
   "outputs": [
    {
     "data": {
      "image/png": "[encoded data removed]",
      "text/plain": [
       "<Figure size 1100x500 with 1 Axes>"
      ]
     },
     "metadata": {},
     "output_type": "display_data"
    }
   ],
   "source": [
    "plt.figure(figsize=(11,5))\n",
    "df1.plot(kind='bar',color='Red',alpha=0.6)\n",
    "plt.title(\"Profits per Each Category\")\n",
    "plt.xlabel(\"Categories\",fontsize=12)\n",
    "plt.ylabel('Profit',fontsize=13)\n",
    "plt.xticks(rotation=0)\n",
    "plt.show()"
   ]
  },
  {
   "cell_type": "markdown",
   "id": "996f39a5",
   "metadata": {},
   "source": [
    "#### Hypothesis 1's Conclusion : The Hypotheses is True i.e., the 'Technology' Category has the Highest Profit Margin"
   ]
  },
  {
   "cell_type": "code",
   "execution_count": null,
   "id": "7b6cf179",
   "metadata": {},
   "outputs": [],
   "source": []
  },
  {
   "cell_type": "markdown",
   "id": "6d5dcefa",
   "metadata": {},
   "source": [
    "### Hypothesis 2. 'East' Region has the highest sales compared to other Regions"
   ]
  },
  {
   "cell_type": "code",
   "execution_count": 24,
   "id": "de81f382",
   "metadata": {},
   "outputs": [
    {
     "data": {
      "text/plain": [
       "Index(['Order Date', 'Ship Date', 'Ship Mode', 'Customer Name', 'Segment',\n",
       "       'City', 'State', 'Country', 'Market', 'Region', 'Product ID',\n",
       "       'Category', 'Sub-Category', 'Product Name', 'Sales', 'Quantity',\n",
       "       'Discount', 'Profit', 'Shipping Cost', 'Order Priority'],\n",
       "      dtype='object')"
      ]
     },
     "execution_count": 24,
     "metadata": {},
     "output_type": "execute_result"
    }
   ],
   "source": [
    "df.columns"
   ]
  },
  {
   "cell_type": "code",
   "execution_count": 25,
   "id": "0ae73aa5",
   "metadata": {},
   "outputs": [],
   "source": [
    "#df.groupby('Region')['Sales'].sum()"
   ]
  },
  {
   "cell_type": "code",
   "execution_count": 26,
   "id": "706778ae",
   "metadata": {},
   "outputs": [],
   "source": [
    "pd.set_option('display.float_format', lambda x: '%.2f' %x)"
   ]
  },
  {
   "cell_type": "code",
   "execution_count": 27,
   "id": "e39d223a",
   "metadata": {},
   "outputs": [
    {
     "data": {
      "text/plain": [
       "Region\n",
       "Central          2822302.52\n",
       "South            1600907.04\n",
       "North            1248165.60\n",
       "Oceania          1100184.61\n",
       "Southeast Asia    884423.17\n",
       "North Asia        848309.78\n",
       "EMEA              806161.31\n",
       "Africa            783773.21\n",
       "Central Asia      752826.57\n",
       "West              725457.82\n",
       "East              678781.24\n",
       "Caribbean         324280.86\n",
       "Canada             66928.17\n",
       "Name: Sales, dtype: float64"
      ]
     },
     "execution_count": 27,
     "metadata": {},
     "output_type": "execute_result"
    }
   ],
   "source": [
    "df2 = df.groupby('Region')['Sales'].sum().sort_values(ascending=False)\n",
    "df2"
   ]
  },
  {
   "cell_type": "code",
   "execution_count": 28,
   "id": "6fcac57e",
   "metadata": {},
   "outputs": [
    {
     "data": {
      "image/png": "[encoded data removed]",
      "text/plain": [
       "<Figure size 1100x500 with 1 Axes>"
      ]
     },
     "metadata": {},
     "output_type": "display_data"
    }
   ],
   "source": [
    "plt.figure(figsize=(11,5))\n",
    "df2.plot(kind='bar',width=0.8)\n",
    "plt.title('Total Sales by Region')\n",
    "plt.xlabel('Region',fontsize=12)\n",
    "plt.ylabel('Sales',fontsize=13)\n",
    "plt.xticks(rotation=80)\n",
    "plt.show()"
   ]
  },
  {
   "cell_type": "markdown",
   "id": "bf61603e",
   "metadata": {},
   "source": [
    "#### Hypothesis 2's Conclusion : Rejecting the Hypothesis as the 'East' Region is not having the most Sales, but 'Central' Region does"
   ]
  },
  {
   "cell_type": "code",
   "execution_count": null,
   "id": "d48de37b",
   "metadata": {},
   "outputs": [],
   "source": []
  },
  {
   "cell_type": "markdown",
   "id": "95bd05e1",
   "metadata": {},
   "source": [
    "### Hypothesis 3. Sales are higher during certain Months of the Year"
   ]
  },
  {
   "cell_type": "code",
   "execution_count": 29,
   "id": "ce034f4e",
   "metadata": {},
   "outputs": [
    {
     "data": {
      "text/plain": [
       "Index(['Order Date', 'Ship Date', 'Ship Mode', 'Customer Name', 'Segment',\n",
       "       'City', 'State', 'Country', 'Market', 'Region', 'Product ID',\n",
       "       'Category', 'Sub-Category', 'Product Name', 'Sales', 'Quantity',\n",
       "       'Discount', 'Profit', 'Shipping Cost', 'Order Priority'],\n",
       "      dtype='object')"
      ]
     },
     "execution_count": 29,
     "metadata": {},
     "output_type": "execute_result"
    }
   ],
   "source": [
    "df.columns"
   ]
  },
  {
   "cell_type": "code",
   "execution_count": 30,
   "id": "e4885727",
   "metadata": {},
   "outputs": [
    {
     "data": {
      "text/html": [
       "<div>\n",
       "<style scoped>\n",
       "    .dataframe tbody tr th:only-of-type {\n",
       "        vertical-align: middle;\n",
       "    }\n",
       "\n",
       "    .dataframe tbody tr th {\n",
       "        vertical-align: top;\n",
       "    }\n",
       "\n",
       "    .dataframe thead th {\n",
       "        text-align: right;\n",
       "    }\n",
       "</style>\n",
       "<table border=\"1\" class=\"dataframe\">\n",
       "  <thead>\n",
       "    <tr style=\"text-align: right;\">\n",
       "      <th></th>\n",
       "      <th>Order Date</th>\n",
       "      <th>Ship Date</th>\n",
       "      <th>Ship Mode</th>\n",
       "      <th>Customer Name</th>\n",
       "      <th>Segment</th>\n",
       "      <th>City</th>\n",
       "      <th>State</th>\n",
       "      <th>Country</th>\n",
       "      <th>Market</th>\n",
       "      <th>Region</th>\n",
       "      <th>...</th>\n",
       "      <th>Category</th>\n",
       "      <th>Sub-Category</th>\n",
       "      <th>Product Name</th>\n",
       "      <th>Sales</th>\n",
       "      <th>Quantity</th>\n",
       "      <th>Discount</th>\n",
       "      <th>Profit</th>\n",
       "      <th>Shipping Cost</th>\n",
       "      <th>Order Priority</th>\n",
       "      <th>Order Month</th>\n",
       "    </tr>\n",
       "  </thead>\n",
       "  <tbody>\n",
       "    <tr>\n",
       "      <th>0</th>\n",
       "      <td>1/1/2011</td>\n",
       "      <td>6/1/2011</td>\n",
       "      <td>Standard Class</td>\n",
       "      <td>Toby Braunhardt</td>\n",
       "      <td>Consumer</td>\n",
       "      <td>Constantine</td>\n",
       "      <td>Constantine</td>\n",
       "      <td>Algeria</td>\n",
       "      <td>Africa</td>\n",
       "      <td>Africa</td>\n",
       "      <td>...</td>\n",
       "      <td>Office Supplies</td>\n",
       "      <td>Storage</td>\n",
       "      <td>Tenex Lockers, Blue</td>\n",
       "      <td>408.30</td>\n",
       "      <td>2</td>\n",
       "      <td>0.00</td>\n",
       "      <td>106.14</td>\n",
       "      <td>35.46</td>\n",
       "      <td>Medium</td>\n",
       "      <td>1</td>\n",
       "    </tr>\n",
       "    <tr>\n",
       "      <th>1</th>\n",
       "      <td>1/1/2011</td>\n",
       "      <td>8/1/2011</td>\n",
       "      <td>Standard Class</td>\n",
       "      <td>Joseph Holt</td>\n",
       "      <td>Consumer</td>\n",
       "      <td>Wagga Wagga</td>\n",
       "      <td>New South Wales</td>\n",
       "      <td>Australia</td>\n",
       "      <td>APAC</td>\n",
       "      <td>Oceania</td>\n",
       "      <td>...</td>\n",
       "      <td>Office Supplies</td>\n",
       "      <td>Supplies</td>\n",
       "      <td>Acme Trimmer, High Speed</td>\n",
       "      <td>120.37</td>\n",
       "      <td>3</td>\n",
       "      <td>0.10</td>\n",
       "      <td>36.04</td>\n",
       "      <td>9.72</td>\n",
       "      <td>Medium</td>\n",
       "      <td>1</td>\n",
       "    </tr>\n",
       "  </tbody>\n",
       "</table>\n",
       "<p>2 rows × 21 columns</p>\n",
       "</div>"
      ],
      "text/plain": [
       "  Order Date Ship Date       Ship Mode    Customer Name   Segment  \\\n",
       "0   1/1/2011  6/1/2011  Standard Class  Toby Braunhardt  Consumer   \n",
       "1   1/1/2011  8/1/2011  Standard Class      Joseph Holt  Consumer   \n",
       "\n",
       "          City            State    Country  Market   Region  ...  \\\n",
       "0  Constantine      Constantine    Algeria  Africa   Africa  ...   \n",
       "1  Wagga Wagga  New South Wales  Australia    APAC  Oceania  ...   \n",
       "\n",
       "          Category Sub-Category              Product Name  Sales  Quantity  \\\n",
       "0  Office Supplies      Storage       Tenex Lockers, Blue 408.30         2   \n",
       "1  Office Supplies     Supplies  Acme Trimmer, High Speed 120.37         3   \n",
       "\n",
       "   Discount  Profit  Shipping Cost  Order Priority Order Month  \n",
       "0      0.00  106.14          35.46          Medium           1  \n",
       "1      0.10   36.04           9.72          Medium           1  \n",
       "\n",
       "[2 rows x 21 columns]"
      ]
     },
     "execution_count": 30,
     "metadata": {},
     "output_type": "execute_result"
    }
   ],
   "source": [
    "df['Order Month'] = pd.DatetimeIndex(df['Order Date']).month\n",
    "df.head(2)"
   ]
  },
  {
   "cell_type": "code",
   "execution_count": 31,
   "id": "34f75601",
   "metadata": {},
   "outputs": [
    {
     "data": {
      "text/plain": [
       "Order Month\n",
       "1     775766.91\n",
       "2     722853.17\n",
       "3     951333.08\n",
       "4     851617.32\n",
       "5     976415.68\n",
       "6    1152367.79\n",
       "7     838743.56\n",
       "8    1247500.81\n",
       "9    1244139.73\n",
       "10   1120777.47\n",
       "11   1377651.29\n",
       "12   1383335.11\n",
       "Name: Sales, dtype: float64"
      ]
     },
     "execution_count": 31,
     "metadata": {},
     "output_type": "execute_result"
    }
   ],
   "source": [
    "df3 = df.groupby('Order Month')['Sales'].sum()\n",
    "df3"
   ]
  },
  {
   "cell_type": "code",
   "execution_count": 32,
   "id": "316fddbe",
   "metadata": {},
   "outputs": [
    {
     "data": {
      "image/png": "[encoded data removed]",
      "text/plain": [
       "<Figure size 1100x500 with 1 Axes>"
      ]
     },
     "metadata": {},
     "output_type": "display_data"
    }
   ],
   "source": [
    "plt.figure(figsize=(11,5))\n",
    "df3.plot(kind='line',color='purple',linewidth=2)\n",
    "plt.xlabel('Month')\n",
    "plt.xlabel('Sales')\n",
    "plt.title(\"Total Sales by Month\")\n",
    "plt.grid()\n",
    "plt.show()"
   ]
  },
  {
   "cell_type": "markdown",
   "id": "1f271c9c",
   "metadata": {},
   "source": [
    "#### Hypothesis 3's Conclusion: Accepting the Hypothesis as it is True. Sales are higher in certain Months. Ecpecially in the Months of November and December"
   ]
  },
  {
   "cell_type": "code",
   "execution_count": null,
   "id": "ba6efdd4",
   "metadata": {},
   "outputs": [],
   "source": []
  },
  {
   "cell_type": "markdown",
   "id": "593ae80d",
   "metadata": {},
   "source": [
    "### Hypothesis 4. Orders with 'Same Day' shipping have lowest rate of Returned Products"
   ]
  },
  {
   "cell_type": "code",
   "execution_count": 33,
   "id": "48a48e05",
   "metadata": {},
   "outputs": [
    {
     "data": {
      "text/plain": [
       "Index(['Order Date', 'Ship Date', 'Ship Mode', 'Customer Name', 'Segment',\n",
       "       'City', 'State', 'Country', 'Market', 'Region', 'Product ID',\n",
       "       'Category', 'Sub-Category', 'Product Name', 'Sales', 'Quantity',\n",
       "       'Discount', 'Profit', 'Shipping Cost', 'Order Priority', 'Order Month'],\n",
       "      dtype='object')"
      ]
     },
     "execution_count": 33,
     "metadata": {},
     "output_type": "execute_result"
    }
   ],
   "source": [
    "df.columns"
   ]
  },
  {
   "cell_type": "code",
   "execution_count": 34,
   "id": "e6e511f7",
   "metadata": {},
   "outputs": [
    {
     "data": {
      "text/plain": [
       "array(['Standard Class', 'Second Class', 'First Class', 'Same Day'],\n",
       "      dtype=object)"
      ]
     },
     "execution_count": 34,
     "metadata": {},
     "output_type": "execute_result"
    }
   ],
   "source": [
    "df['Ship Mode'].unique()"
   ]
  },
  {
   "cell_type": "code",
   "execution_count": 35,
   "id": "797e2a29",
   "metadata": {},
   "outputs": [
    {
     "data": {
      "text/plain": [
       "Standard Class    30775\n",
       "Second Class      10309\n",
       "First Class        7505\n",
       "Same Day           2701\n",
       "Name: Ship Mode, dtype: int64"
      ]
     },
     "execution_count": 35,
     "metadata": {},
     "output_type": "execute_result"
    }
   ],
   "source": [
    "total_orders_per_shipmode = df['Ship Mode'].value_counts()\n",
    "total_orders_per_shipmode"
   ]
  },
  {
   "cell_type": "code",
   "execution_count": 36,
   "id": "6fd90103",
   "metadata": {},
   "outputs": [
    {
     "data": {
      "text/plain": [
       "Standard Class    7534\n",
       "Second Class      2482\n",
       "First Class       1882\n",
       "Same Day           646\n",
       "Name: Ship Mode, dtype: int64"
      ]
     },
     "execution_count": 36,
     "metadata": {},
     "output_type": "execute_result"
    }
   ],
   "source": [
    "returned_orders_per_shipmode = df[df['Profit']<0]['Ship Mode'].value_counts()\n",
    "returned_orders_per_shipmode"
   ]
  },
  {
   "cell_type": "code",
   "execution_count": 37,
   "id": "f380aaab",
   "metadata": {},
   "outputs": [],
   "source": [
    "# considering the orders with profit < 0 to be returned orders (as per expert opinion ;) )"
   ]
  },
  {
   "cell_type": "code",
   "execution_count": 38,
   "id": "e507d3bf",
   "metadata": {},
   "outputs": [
    {
     "data": {
      "text/plain": [
       "Standard Class   24.48\n",
       "Second Class     24.08\n",
       "First Class      25.08\n",
       "Same Day         23.92\n",
       "Name: Ship Mode, dtype: float64"
      ]
     },
     "execution_count": 38,
     "metadata": {},
     "output_type": "execute_result"
    }
   ],
   "source": [
    "Percentage_returned_per_shipmode = (returned_orders_per_shipmode/total_orders_per_shipmode)*100\n",
    "Percentage_returned_per_shipmode"
   ]
  },
  {
   "cell_type": "code",
   "execution_count": 39,
   "id": "78dafce0",
   "metadata": {},
   "outputs": [
    {
     "data": {
      "image/png": "[encoded data removed]",
      "text/plain": [
       "<Figure size 900x500 with 1 Axes>"
      ]
     },
     "metadata": {},
     "output_type": "display_data"
    }
   ],
   "source": [
    "plt.figure(figsize=(9,5))\n",
    "Percentage_returned_per_shipmode.plot(kind='barh',colormap='cividis')\n",
    "plt.xlabel(\"Percentage\")\n",
    "plt.ylabel(\"Shipping Mode\")\n",
    "plt.title(\"Returned Items with respect to Ship Mode\")\n",
    "plt.grid(color='r',alpha=0.5)\n",
    "plt.show()"
   ]
  },
  {
   "cell_type": "markdown",
   "id": "bbec2c3c",
   "metadata": {},
   "source": [
    "#### Hypothesis 4's Conclusion : Accepting Hypothesis, as it is True i.e., items that are shipped on the Same Day have the lowest rate of Returned Products"
   ]
  },
  {
   "cell_type": "code",
   "execution_count": null,
   "id": "4bbe156f",
   "metadata": {},
   "outputs": [],
   "source": []
  },
  {
   "cell_type": "markdown",
   "id": "250fc455",
   "metadata": {},
   "source": [
    "### Hypothesis 5. The Company's Profit is more on Weekdays than on Weekends"
   ]
  },
  {
   "cell_type": "code",
   "execution_count": 40,
   "id": "7715d97c",
   "metadata": {},
   "outputs": [
    {
     "data": {
      "text/plain": [
       "Index(['Order Date', 'Ship Date', 'Ship Mode', 'Customer Name', 'Segment',\n",
       "       'City', 'State', 'Country', 'Market', 'Region', 'Product ID',\n",
       "       'Category', 'Sub-Category', 'Product Name', 'Sales', 'Quantity',\n",
       "       'Discount', 'Profit', 'Shipping Cost', 'Order Priority', 'Order Month'],\n",
       "      dtype='object')"
      ]
     },
     "execution_count": 40,
     "metadata": {},
     "output_type": "execute_result"
    }
   ],
   "source": [
    "df.columns"
   ]
  },
  {
   "cell_type": "code",
   "execution_count": 41,
   "id": "e9553a4c",
   "metadata": {},
   "outputs": [
    {
     "data": {
      "text/plain": [
       "0         Saturday\n",
       "1         Saturday\n",
       "2         Saturday\n",
       "3         Saturday\n",
       "4         Saturday\n",
       "           ...    \n",
       "51285    Wednesday\n",
       "51286    Wednesday\n",
       "51287    Wednesday\n",
       "51288    Wednesday\n",
       "51289    Wednesday\n",
       "Name: Order Day, Length: 51290, dtype: object"
      ]
     },
     "execution_count": 41,
     "metadata": {},
     "output_type": "execute_result"
    }
   ],
   "source": [
    "df['Order Day'] = pd.DatetimeIndex(df['Order Date']).day_name()\n",
    "df['Order Day']"
   ]
  },
  {
   "cell_type": "code",
   "execution_count": 42,
   "id": "9395170a",
   "metadata": {},
   "outputs": [
    {
     "data": {
      "text/plain": [
       "Order Day\n",
       "Friday      243802.84\n",
       "Monday      246526.56\n",
       "Saturday    176486.55\n",
       "Sunday      104117.91\n",
       "Thursday    241183.08\n",
       "Tuesday     249788.05\n",
       "Wednesday   205552.31\n",
       "Name: Profit, dtype: float64"
      ]
     },
     "execution_count": 42,
     "metadata": {},
     "output_type": "execute_result"
    }
   ],
   "source": [
    "df5 = df.groupby('Order Day')['Profit'].sum()\n",
    "df5"
   ]
  },
  {
   "cell_type": "code",
   "execution_count": 43,
   "id": "3ffdd338",
   "metadata": {},
   "outputs": [
    {
     "data": {
      "image/png": "[encoded data removed]",
      "text/plain": [
       "<Figure size 1100x500 with 1 Axes>"
      ]
     },
     "metadata": {},
     "output_type": "display_data"
    }
   ],
   "source": [
    "plt.figure(figsize=(11,5),facecolor='yellow')\n",
    "df5.plot(kind='bar',colormap='terrain')\n",
    "plt.title(\"Total Profits by the Days of the Week\")\n",
    "plt.xlabel(\"Days of the Week\",fontsize=11)\n",
    "plt.ylabel(\"Profit\",fontsize=11)\n",
    "plt.xticks(rotation=80)\n",
    "plt.show()"
   ]
  },
  {
   "cell_type": "markdown",
   "id": "3cefa118",
   "metadata": {},
   "source": [
    "#### Hypothesis 5's Conclusion : Accepting the Hypothesis as it is True i.e., Profits on Weedays are Higher than that of the Weekend's"
   ]
  },
  {
   "cell_type": "code",
   "execution_count": null,
   "id": "5271430c",
   "metadata": {},
   "outputs": [],
   "source": []
  },
  {
   "cell_type": "code",
   "execution_count": null,
   "id": "1e40055c",
   "metadata": {},
   "outputs": [],
   "source": [
    "# Conclusions:\n",
    "#    Hypothesis 1. 'Technology' category products have the highest profit margin compared to other categories\n",
    "# Conclusion: This Hypothesis is proved to be True. The Data shows that the 'Technology' Products have the Highest Profit \n",
    "# Margin compared to the other Products.\n",
    "\n",
    "# Hypothesis 2. 'East' Region has the highest sales compared to other Regions\n",
    "# Conclusion: This Hypothesis is proved to be False, as the Data shows that the East Region does not have the\n",
    "# Highest sales compared to other Regions.\n",
    "\n",
    "# Hypothesis 3. Sales are higher during certain Months of the Year\n",
    "# Conclusion: This Hypothesis is proved to be True. The Data shows that Sales are Higher during certain Months of the Year.\n",
    "#\n",
    "# Hypothesis 4. Orders with 'Same Day' shipping have lowest rate of Returned Products\n",
    "# Conclusion: This Hypothesis is proved to be True. The Data shows that the Orders with 'Same Day' \n",
    "# shipping have lowest rate of Returned Products\n",
    "\n",
    "# Hypothesis 5. The Company's profit is more on Weekdays than on Weekends\n",
    "# Conclusion : This Hypothesis is proved to be True. The Data shows that the Company's profit is more on Weekdays\n",
    "# than on Weekends\n"
   ]
  },
  {
   "cell_type": "code",
   "execution_count": null,
   "id": "18e6b282",
   "metadata": {},
   "outputs": [],
   "source": [
    "# Results :\n",
    "# Based on the Analysis, it is concluded that the 'Technology' Products have the Highest Profit \n",
    "# Margin compared to the other Products.\n",
    " \n",
    "# The 'East' Region does not have the Highest Sales but the 'Central' Region does.\n",
    "\n",
    "# Sales are Higher during certain Months of the Year.\n",
    "\n",
    "# Orders with same-day Shipping are less likely to be Returned.\n",
    "\n",
    "# The Company's Profit is Higher on Weekdays than on Weekends."
   ]
  },
  {
   "cell_type": "code",
   "execution_count": null,
   "id": "fb5caf77",
   "metadata": {},
   "outputs": [],
   "source": [
    "# Suggestions :\n",
    "\n",
    "# The Company could increase the production/ promotion of Technology Products to increase their Profitability.\n",
    "\n",
    "# As the 'Central' Region has the Highest sales compared to other regions, the Company could condiser Increasing their focus on \n",
    "# this Region, and should re-evaluate its Marketing & Sales strageies in other Regions.\n",
    "\n",
    "# The Company should focus on Maximizing their Sales during the Months of November and December as these months have the highest\n",
    "# sales. However, the Company should also consider strategies to maintain Sales during other months such as introducting New\n",
    "# Products, Services, Offers, Discounts.\n",
    "\n",
    "# The Company could consider offering more Same-Day Shipping options to Customers, as these Products \n",
    "# have the lowest chance of being Returned.\n",
    "\n",
    "# Additionally, the Company could consider Focusing of differnt types of Sales/ Promotions/ Offers/ Discounts during the\n",
    "# Weekends to increase sales, as weekends are having lower Sales than the Weekdays. \n",
    "\n"
   ]
  }
 ],
 "metadata": {
  "kernelspec": {
   "display_name": "Python 3 (ipykernel)",
   "language": "python",
   "name": "python3"
  },
  "language_info": {
   "codemirror_mode": {
    "name": "ipython",
    "version": 3
   },
   "file_extension": ".py",
   "mimetype": "text/x-python",
   "name": "python",
   "nbconvert_exporter": "python",
   "pygments_lexer": "ipython3",
   "version": "3.10.9"
  }
 },
 "nbformat": 4,
 "nbformat_minor": 5
}
